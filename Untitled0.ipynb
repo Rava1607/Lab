{
  "nbformat": 4,
  "nbformat_minor": 0,
  "metadata": {
    "colab": {
      "name": "Untitled0.ipynb",
      "provenance": [],
      "collapsed_sections": []
    },
    "kernelspec": {
      "name": "python3",
      "display_name": "Python 3"
    }
  },
  "cells": [
    {
      "cell_type": "code",
      "metadata": {
        "colab": {
          "base_uri": "https://localhost:8080/"
        },
        "id": "XgVsf6L1knAP",
        "outputId": "ef25c154-d6f6-4875-d915-f42b48dc6577"
      },
      "source": [
        "a = [\"a\",\"b\",\"c\",\"d\",\"e\",\"a\",\"a\",\"b\",\"c\"]\r\n",
        "\r\n",
        "dict1 = dict()\r\n",
        "\r\n",
        "for i in range(len(a)):\r\n",
        "\r\n",
        "    if dict1.get(a[i]) == None:\r\n",
        "\r\n",
        "        dict1[a[i]] = [i]\r\n",
        "    else:\r\n",
        "        dict1[a[i]].append(i)\r\n",
        "        \r\n",
        "print(dict1)"
      ],
      "execution_count": 1,
      "outputs": [
        {
          "output_type": "stream",
          "text": [
            "{'a': [0, 5, 6], 'b': [1, 7], 'c': [2, 8], 'd': [3], 'e': [4]}\n"
          ],
          "name": "stdout"
        }
      ]
    },
    {
      "cell_type": "code",
      "metadata": {
        "colab": {
          "base_uri": "https://localhost:8080/"
        },
        "id": "OZytaRXrkxKv",
        "outputId": "7cc9c448-00c1-4435-8958-edeb7c0e916c"
      },
      "source": [
        "a = [\"a\",\"b\",\"c\",\"d\",\"e\",\"a\",\"a\",\"b\",\"c\"]\r\n",
        "\r\n",
        "print({x:[i for i in range(len(a)) if a[i] == x] for x in set(a)})"
      ],
      "execution_count": 2,
      "outputs": [
        {
          "output_type": "stream",
          "text": [
            "{'c': [2, 8], 'a': [0, 5, 6], 'b': [1, 7], 'd': [3], 'e': [4]}\n"
          ],
          "name": "stdout"
        }
      ]
    },
    {
      "cell_type": "code",
      "metadata": {
        "id": "6tJXUU4Yk1KM"
      },
      "source": [
        "import json\r\n",
        "import csv\r\n",
        "with open(\"sales.json\") as file: info = json.load(file)\r\n",
        "a = []\r\n",
        "\r\n",
        "for item in info:\r\n",
        "    for country in item[\"sales_by_country\"]:\r\n",
        "        for year in item[\"sales_by_country\"][country]:\r\n",
        "            a.append([ item['item'], country, year, item[\"sales_by_country\"][country][year] ])\r\n",
        "\r\n",
        "with open(\"sales.csv\", \"w\") as file:\r\n",
        "    writer = csv.writer(file)\r\n",
        "    for row in a:\r\n",
        "        writer.writerow(row)"
      ],
      "execution_count": 5,
      "outputs": []
    }
  ]
}